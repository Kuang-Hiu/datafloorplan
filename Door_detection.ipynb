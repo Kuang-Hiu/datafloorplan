{
 "cells": [
  {
   "cell_type": "code",
   "execution_count": 1,
   "id": "7838cc17",
   "metadata": {},
   "outputs": [],
   "source": [
    "from roboflow import Roboflow\n",
    "import cv2\n",
    "import matplotlib.pyplot as plt\n",
    "import numpy as np"
   ]
  },
  {
   "cell_type": "code",
   "execution_count": 2,
   "id": "1fff529c",
   "metadata": {},
   "outputs": [],
   "source": [
    "img_path = './30939153.jpg'"
   ]
  },
  {
   "cell_type": "code",
   "execution_count": 3,
   "id": "002c9253",
   "metadata": {},
   "outputs": [],
   "source": [
    "def door_detection(img_path = './30939153.jpg'):\n",
    "    doors = []\n",
    "    try:\n",
    "        img = cv2.imread(img_path)\n",
    "        #detection\n",
    "        rf = Roboflow(api_key=\"7W0fIqzuiJGplpXG0C5L\")\n",
    "\n",
    "        workspace = rf.workspace(\"kuanghiu\")\n",
    "\n",
    "        project = workspace.project(\"door-yvyzd\")\n",
    "\n",
    "        version = project.version(1)\n",
    "\n",
    "        model = version.model\n",
    "\n",
    "        prediction = model.predict(img_path)\n",
    "\n",
    "        json_file = prediction.json()\n",
    "        #save results\n",
    "        for it in json_file['predictions']:\n",
    "            door = np.zeros((img.shape[0],img.shape[1]))\n",
    "            door[int(it['y'] - it['height']/2) : int(it['y']+it['height']/2), int(it['x']- it['width']/2) : int(it['x'] + it['width']/2)] = 255\n",
    "            doors.append(door)\n",
    "        print('Detect door sussecful. Have {} doors in plan'.format(len(doors)))\n",
    "    except:\n",
    "        print('Something wrong. We dont find any door in plan')\n",
    "    return doors\n",
    "    "
   ]
  },
  {
   "cell_type": "code",
   "execution_count": 6,
   "id": "0782a504",
   "metadata": {},
   "outputs": [
    {
     "name": "stdout",
     "output_type": "stream",
     "text": [
      "loading Roboflow workspace...\n",
      "loading Roboflow project...\n",
      "Detect door sussecful. Have 7 doors in plan\n"
     ]
    }
   ],
   "source": [
    "results = door_detection(img_path = '2.jpg')"
   ]
  },
  {
   "cell_type": "code",
   "execution_count": 5,
   "id": "18b9d2a6",
   "metadata": {},
   "outputs": [],
   "source": [
    "img = cv2.imread('2.jpg')"
   ]
  },
  {
   "cell_type": "code",
   "execution_count": 7,
   "id": "ab835fb3",
   "metadata": {},
   "outputs": [],
   "source": [
    "im = np.zeros((img.shape[0],img.shape[1]))\n",
    "for i in range(len(results)):\n",
    "    im = im + results[i]"
   ]
  },
  {
   "cell_type": "code",
   "execution_count": 8,
   "id": "b5690f70",
   "metadata": {},
   "outputs": [
    {
     "data": {
      "text/plain": [
       "<matplotlib.image.AxesImage at 0x18ee3dec7f0>"
      ]
     },
     "execution_count": 8,
     "metadata": {},
     "output_type": "execute_result"
    },
    {
     "data": {
      "image/png": "[encoded data removed]",
      "text/plain": [
       "<Figure size 432x288 with 1 Axes>"
      ]
     },
     "metadata": {
      "needs_background": "light"
     },
     "output_type": "display_data"
    }
   ],
   "source": [
    "plt.imshow(im + img[:,:,0])"
   ]
  },
  {
   "cell_type": "code",
   "execution_count": 54,
   "id": "62127531",
   "metadata": {},
   "outputs": [],
   "source": [
    "from PIL import Image"
   ]
  },
  {
   "cell_type": "code",
   "execution_count": 61,
   "id": "5a332acc",
   "metadata": {},
   "outputs": [],
   "source": [
    "img_path = './23251.png'\n",
    "temp = Image.open(img_path)\n",
    "img = np.asarray(temp, dtype=np.uint8)"
   ]
  },
  {
   "cell_type": "code",
   "execution_count": 63,
   "id": "e27a9ac9",
   "metadata": {},
   "outputs": [
    {
     "data": {
      "text/plain": [
       "array([[0, 0, 0, ..., 0, 0, 0],\n",
       "       [0, 0, 0, ..., 0, 0, 0],\n",
       "       [0, 0, 0, ..., 0, 0, 0],\n",
       "       ...,\n",
       "       [0, 0, 0, ..., 0, 0, 0],\n",
       "       [0, 0, 0, ..., 0, 0, 0],\n",
       "       [0, 0, 0, ..., 0, 0, 0]], dtype=uint8)"
      ]
     },
     "execution_count": 63,
     "metadata": {},
     "output_type": "execute_result"
    }
   ],
   "source": [
    "img[:,:,0]"
   ]
  },
  {
   "cell_type": "code",
   "execution_count": 69,
   "id": "69087713",
   "metadata": {},
   "outputs": [
    {
     "name": "stdout",
     "output_type": "stream",
     "text": [
      "[0 1 2 3 4 5 6 7 8]\n",
      "[48281  1016   312  1075  2441  1716  2989  1216  6490]\n"
     ]
    }
   ],
   "source": [
    "uni, count = np.unique(img[:,:,2],return_counts = True)\n",
    "print(uni)\n",
    "print(count)"
   ]
  },
  {
   "cell_type": "code",
   "execution_count": null,
   "id": "5aa3e334",
   "metadata": {},
   "outputs": [],
   "source": []
  }
 ],
 "metadata": {
  "kernelspec": {
   "display_name": "Python 3 (ipykernel)",
   "language": "python",
   "name": "python3"
  },
  "language_info": {
   "codemirror_mode": {
    "name": "ipython",
    "version": 3
   },
   "file_extension": ".py",
   "mimetype": "text/x-python",
   "name": "python",
   "nbconvert_exporter": "python",
   "pygments_lexer": "ipython3",
   "version": "3.9.12"
  }
 },
 "nbformat": 4,
 "nbformat_minor": 5
}
